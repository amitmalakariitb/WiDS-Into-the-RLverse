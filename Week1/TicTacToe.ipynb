{
 "cells": [
  {
   "cell_type": "markdown",
   "metadata": {},
   "source": [
    "## Tic-Tac-Toe Simulation\n",
    "In this assignment you have to construct a python class \"TicTacToe\" which simulates the game of Tic-Tac-Toe, this will further be used as an enviroment to solve for you in next week.\n",
    "\n",
    "You may add arguments to given functions as per your need and also additional helper functions (whose name should start with \"_\", convention for private functions), but only the initially given functions can be called by any user. No additional imports are allowed. The game always starts with X's turn."
   ]
  },
  {
   "cell_type": "code",
   "execution_count": 1,
   "metadata": {},
   "outputs": [],
   "source": [
    "class TicTacToe:\n",
    "    def __init__(self, n):\n",
    "        self.n = n\n",
    "        self.board = [[' ']*n for _ in range(n)]\n",
    "        self.current_player = 'X'\n",
    "        pass\n",
    "    def act(self, row, col):\n",
    "        if self.board[row][col] == ' ':\n",
    "            self.board[row][col] = self.current_player\n",
    "            winner = self.check_winner()\n",
    "            if winner:\n",
    "                return f'{winner} wins!'\n",
    "            elif self.is_board_full():\n",
    "                return 'It\\'s a draw!'\n",
    "            else:\n",
    "                self.current_player = 'O' if self.current_player == 'X' else 'X'\n",
    "                return f'Turn: {self.current_player}'\n",
    "        else:\n",
    "            return 'Invalid move. Cell already occupied.'\n",
    "        pass\n",
    "    def reset(self):\n",
    "        self.board = [[' ']*self.n for _ in range(self.n)]\n",
    "        self.current_player = 'X'\n",
    "        return f'Game reset. {self.current_player}\\'s turn.'\n",
    "        pass\n",
    "    def check_winner(self):\n",
    "        for i in range(self.n):\n",
    "            \n",
    "            if all(self.board[i][j] == self.current_player for j in range(self.n)):\n",
    "                return self.current_player\n",
    "            if all(self.board[j][i] == self.current_player for j in range(self.n)):\n",
    "                return self.current_player\n",
    "\n",
    "        if all(self.board[i][i] == self.current_player for i in range(self.n)):\n",
    "            return self.current_player\n",
    "        if all(self.board[i][self.n - 1 - i] == self.current_player for i in range(self.n)):\n",
    "            return self.current_player\n",
    "\n",
    "        return None\n",
    "        pass\n",
    "\n",
    "    def is_board_full(self):\n",
    "        return all(cell != ' ' for row in self.board for cell in row)\n",
    "        pass\n"
   ]
  }
 ],
 "metadata": {
  "kernelspec": {
   "display_name": "Python 3 (ipykernel)",
   "language": "python",
   "name": "python3"
  },
  "language_info": {
   "codemirror_mode": {
    "name": "ipython",
    "version": 3
   },
   "file_extension": ".py",
   "mimetype": "text/x-python",
   "name": "python",
   "nbconvert_exporter": "python",
   "pygments_lexer": "ipython3",
   "version": "3.11.5"
  }
 },
 "nbformat": 4,
 "nbformat_minor": 2
}
