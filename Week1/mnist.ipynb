{
 "cells": [
  {
   "cell_type": "markdown",
   "metadata": {},
   "source": [
    "## MNIST Classification using PyTorch\n",
    "Implement a CNN model in PyTorch to classify MNIST dataset, you can use sklearn library to import the mnist dataset."
   ]
  },
  {
   "cell_type": "code",
   "execution_count": 1,
   "metadata": {},
   "outputs": [],
   "source": [
    "# Import all required libraries\n",
    "import torch\n",
    "import torch.nn as nn\n",
    "import torch.optim as optim\n",
    "from sklearn.datasets import fetch_openml\n",
    "from sklearn.model_selection import train_test_split\n",
    "from torchvision import transforms\n",
    "import matplotlib.pyplot as plt\n",
    "import numpy as np"
   ]
  },
  {
   "cell_type": "code",
   "execution_count": 2,
   "metadata": {},
   "outputs": [
    {
     "name": "stdout",
     "output_type": "stream",
     "text": [
      "Epoch [1/10], Loss: 0.0046, Validation Accuracy: 98.09%\n",
      "Epoch [2/10], Loss: 0.0011, Validation Accuracy: 98.50%\n",
      "Epoch [3/10], Loss: 0.0009, Validation Accuracy: 98.64%\n",
      "Epoch [4/10], Loss: 0.0042, Validation Accuracy: 98.99%\n",
      "Epoch [5/10], Loss: 0.0008, Validation Accuracy: 99.11%\n",
      "Epoch [6/10], Loss: 0.0014, Validation Accuracy: 98.87%\n",
      "Epoch [7/10], Loss: 0.0010, Validation Accuracy: 98.90%\n",
      "Epoch [8/10], Loss: 0.0001, Validation Accuracy: 98.97%\n",
      "Epoch [9/10], Loss: 0.0001, Validation Accuracy: 99.01%\n",
      "Epoch [10/10], Loss: 0.0003, Validation Accuracy: 98.90%\n"
     ]
    }
   ],
   "source": [
    "# Start by scratch :)\n",
    "\n",
    "torch.manual_seed(42)\n",
    "mnist = fetch_openml(name='mnist_784', version=1, parser='auto')\n",
    "mnist_data, mnist_labels = mnist.data.astype('float32'), mnist.target.astype('int64')\n",
    "\n",
    "mnist_data /= 255.0\n",
    "\n",
    "train_data, val_data, train_labels, val_labels = train_test_split(\n",
    "    mnist_data, mnist_labels, stratify=mnist_labels, test_size=0.1, random_state=42\n",
    ")\n",
    "\n",
    "train_data_np = train_data.to_numpy(dtype='float32')\n",
    "val_data_np = val_data.to_numpy(dtype='float32')\n",
    "train_labels_np = train_labels.to_numpy(dtype='int64')\n",
    "val_labels_np = val_labels.to_numpy(dtype='int64')\n",
    "\n",
    "train_data = torch.tensor(train_data_np)\n",
    "val_data = torch.tensor(val_data_np)\n",
    "train_labels = torch.tensor(train_labels_np)\n",
    "val_labels = torch.tensor(val_labels_np)\n",
    "\n",
    "train_dataset = torch.utils.data.TensorDataset(train_data, train_labels)\n",
    "val_dataset = torch.utils.data.TensorDataset(val_data, val_labels)\n",
    "\n",
    "train_loader = torch.utils.data.DataLoader(dataset=train_dataset, batch_size=64, shuffle=True)\n",
    "val_loader = torch.utils.data.DataLoader(dataset=val_dataset, batch_size=64, shuffle=False)\n",
    "\n",
    "\n",
    "class CNNModel(nn.Module):\n",
    "    def __init__(self):\n",
    "        super(CNNModel, self).__init__()\n",
    "        self.conv1 = nn.Conv2d(1, 32, kernel_size=3, padding=1)\n",
    "        self.relu1 = nn.ReLU()\n",
    "        self.conv2 = nn.Conv2d(32, 64, kernel_size=3, padding=1)\n",
    "        self.relu2 = nn.ReLU()\n",
    "        self.pool = nn.MaxPool2d(kernel_size=2, stride=2)\n",
    "        self.fc1 = nn.Linear(64 * 7 * 7, 128)\n",
    "        self.relu3 = nn.ReLU()\n",
    "        self.fc2 = nn.Linear(128, 10)\n",
    "\n",
    "    def forward(self, x):\n",
    "        x = x.view(-1, 1, 28, 28)\n",
    "        x = self.conv1(x)\n",
    "        x = self.relu1(x)\n",
    "        x = self.pool(x)\n",
    "        x = self.conv2(x)\n",
    "        x = self.relu2(x)\n",
    "        x = self.pool(x)\n",
    "        x = x.view(-1, 64 * 7 * 7)\n",
    "        x = self.fc1(x)\n",
    "        x = self.relu3(x)\n",
    "        x = self.fc2(x)\n",
    "        return x\n",
    "\n",
    "model = CNNModel()\n",
    "criterion = nn.CrossEntropyLoss()\n",
    "optimizer = optim.Adam(model.parameters(), lr=0.001)\n",
    "\n",
    "epochs = 10\n",
    "for epoch in range(epochs):\n",
    "    model.train()\n",
    "    for batch_data, batch_labels in train_loader:\n",
    "        optimizer.zero_grad()\n",
    "        output = model(batch_data)\n",
    "        loss = criterion(output, batch_labels)\n",
    "        loss.backward()\n",
    "        optimizer.step()\n",
    "\n",
    "    model.eval()\n",
    "    with torch.no_grad():\n",
    "        val_loss = 0.0\n",
    "        correct = 0\n",
    "        total = 0\n",
    "        for batch_data, batch_labels in val_loader:\n",
    "            output = model(batch_data)\n",
    "            loss = criterion(output, batch_labels)\n",
    "            val_loss += loss.item()\n",
    "            _, predicted = torch.max(output.data, 1)\n",
    "            total += batch_labels.size(0)\n",
    "            correct += (predicted == batch_labels).sum().item()\n",
    "\n",
    "    print(f'Epoch [{epoch + 1}/{epochs}], Loss: {loss.item():.4f}, Validation Accuracy: {100 * correct / total:.2f}%')\n",
    "\n",
    "torch.save(model.state_dict(), 'mnist_cnn_model.pth')\n"
   ]
  },
  {
   "cell_type": "code",
   "execution_count": 8,
   "metadata": {},
   "outputs": [
    {
     "data": {
      "image/png": "[encoded data removed]",
      "text/plain": [
       "<Figure size 640x480 with 1 Axes>"
      ]
     },
     "metadata": {},
     "output_type": "display_data"
    },
    {
     "name": "stdout",
     "output_type": "stream",
     "text": [
      "Predicted Label: 4\n"
     ]
    }
   ],
   "source": [
    "loaded_model = CNNModel()\n",
    "loaded_model.load_state_dict(torch.load('mnist_cnn_model.pth'))\n",
    "loaded_model.eval()\n",
    "\n",
    "index = np.random.randint(len(val_data))\n",
    "new_data = val_data[index:index+1]  \n",
    "\n",
    "image = new_data.reshape(28, 28)\n",
    "plt.imshow(image, cmap='gray')\n",
    "plt.title(f'MNIST Actual Digit (Label: {val_labels[index]})')\n",
    "plt.show()\n",
    "\n",
    "with torch.no_grad():\n",
    "    output = loaded_model(new_data.clone().detach().requires_grad_(True))\n",
    "    predicted_label = torch.argmax(output).item()\n",
    "\n",
    "print(f'Predicted Label: {predicted_label}')\n"
   ]
  }
 ],
 "metadata": {
  "kernelspec": {
   "display_name": "Python 3 (ipykernel)",
   "language": "python",
   "name": "python3"
  },
  "language_info": {
   "codemirror_mode": {
    "name": "ipython",
    "version": 3
   },
   "file_extension": ".py",
   "mimetype": "text/x-python",
   "name": "python",
   "nbconvert_exporter": "python",
   "pygments_lexer": "ipython3",
   "version": "3.11.5"
  }
 },
 "nbformat": 4,
 "nbformat_minor": 2
}
