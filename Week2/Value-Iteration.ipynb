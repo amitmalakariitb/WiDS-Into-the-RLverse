{
 "cells": [
  {
   "cell_type": "code",
   "execution_count": 1,
   "id": "06c93bdb",
   "metadata": {
    "scrolled": true
   },
   "outputs": [],
   "source": [
    "import numpy as np\n",
    "\n",
    "def read_mdp(file_path):\n",
    "    states = 0\n",
    "    actions = 0\n",
    "    transitions = {}\n",
    "    gamma = 0.0\n",
    "\n",
    "    with open(file_path, 'r') as file:\n",
    "        for line in file:\n",
    "            parts = line.split()\n",
    "            if parts[0] == 'states':\n",
    "                states = int(parts[1])\n",
    "            elif parts[0] == 'actions':\n",
    "                actions = int(parts[1])\n",
    "                transitions = {s: {a: [] for a in range(actions)} for s in range(states)}\n",
    "            elif parts[0] == 'tran':\n",
    "                initial_state, action_taken, final_state, reward, transition_prob = map(float, parts[1:])\n",
    "                transitions[int(initial_state)][int(action_taken)].append((transition_prob, int(final_state), reward, False))\n",
    "            elif parts[0] == 'gamma':\n",
    "                gamma = float(parts[1])\n",
    "\n",
    "    return states, actions, transitions, gamma\n",
    "\n",
    "\n",
    "def value_iteration(P, gamma, theta=1e-10):\n",
    "    V = np.zeros(len(P), dtype=np.float64)\n",
    "    while True:\n",
    "        Q = np.zeros((len(P), len(P[0])), dtype=np.float64)\n",
    "        for s in range(len(P)):\n",
    "            for a in range(len(P[s])):\n",
    "                for prob, next_state, reward, done in P[s][a]:\n",
    "                    Q[s][a] += prob * (reward + gamma * V[int(next_state)] * (not done))\n",
    "        if np.max(np.abs(V - np.max(Q, axis=1))) < theta:\n",
    "            break\n",
    "        V = np.max(Q, axis=1)\n",
    "    return V\n",
    "\n",
    "\n",
    "def extract_policy(P, V, gamma):\n",
    "    policy = {}\n",
    "    for s in range(len(P)):\n",
    "        policy[s] = np.argmax([sum(prob * (reward + gamma * V[int(next_state)] * (not done)) for prob, next_state, reward, done in P[s][a]) for a in range(len(P[s]))])\n",
    "    return policy\n",
    "\n",
    "\n",
    "def write_output(output_file, values, policy):\n",
    "    with open(output_file, 'w') as file:\n",
    "        for v, p in zip(values, policy.values()):\n",
    "            rounded_v = round(v, 6)\n",
    "            file.write(f\"{rounded_v} {p}\\n\")\n",
    "\n",
    "\n",
    "def process_mdp_file(file_path, output_file_name):\n",
    "    states, actions, transitions, gamma = read_mdp(file_path)\n",
    "    optimal_values = value_iteration(transitions, gamma)\n",
    "    optimal_policy = extract_policy(transitions, optimal_values, gamma)\n",
    "    \n",
    "    output_file_path = f\"./MDP/{output_file_name}\"\n",
    "    write_output(output_file_path, optimal_values, optimal_policy)\n",
    "    print(\"successful\")\n"
   ]
  },
  {
   "cell_type": "code",
   "execution_count": 2,
   "id": "718cbb41",
   "metadata": {},
   "outputs": [
    {
     "name": "stdout",
     "output_type": "stream",
     "text": [
      "successful\n"
     ]
    }
   ],
   "source": [
    "mdp_file_path_1 = \"./MDP/mdp-10-5.txt\"\n",
    "process_mdp_file(mdp_file_path_1,\"output_file_mdp-10-5.txt\")"
   ]
  },
  {
   "cell_type": "code",
   "execution_count": 3,
   "id": "10510101",
   "metadata": {},
   "outputs": [
    {
     "name": "stdout",
     "output_type": "stream",
     "text": [
      "successful\n"
     ]
    }
   ],
   "source": [
    "mdp_file_path_2 = \"./MDP/mdp-2-2.txt\"\n",
    "process_mdp_file(mdp_file_path_2,\"output_file_mdp-2-2.txt\")"
   ]
  },
  {
   "cell_type": "code",
   "execution_count": null,
   "id": "fff81ccd",
   "metadata": {},
   "outputs": [],
   "source": []
  },
  {
   "cell_type": "code",
   "execution_count": null,
   "id": "c76d8e48",
   "metadata": {},
   "outputs": [],
   "source": []
  },
  {
   "cell_type": "code",
   "execution_count": null,
   "id": "45a434e7",
   "metadata": {},
   "outputs": [],
   "source": []
  },
  {
   "cell_type": "code",
   "execution_count": null,
   "id": "1fdf2603",
   "metadata": {},
   "outputs": [],
   "source": []
  },
  {
   "cell_type": "code",
   "execution_count": null,
   "id": "dd4be60f",
   "metadata": {},
   "outputs": [],
   "source": []
  },
  {
   "cell_type": "code",
   "execution_count": null,
   "id": "1c1deb94",
   "metadata": {},
   "outputs": [],
   "source": []
  },
  {
   "cell_type": "code",
   "execution_count": null,
   "id": "4b0b9f26",
   "metadata": {},
   "outputs": [],
   "source": []
  }
 ],
 "metadata": {
  "kernelspec": {
   "display_name": "Python 3 (ipykernel)",
   "language": "python",
   "name": "python3"
  },
  "language_info": {
   "codemirror_mode": {
    "name": "ipython",
    "version": 3
   },
   "file_extension": ".py",
   "mimetype": "text/x-python",
   "name": "python",
   "nbconvert_exporter": "python",
   "pygments_lexer": "ipython3",
   "version": "3.11.5"
  }
 },
 "nbformat": 4,
 "nbformat_minor": 5
}
